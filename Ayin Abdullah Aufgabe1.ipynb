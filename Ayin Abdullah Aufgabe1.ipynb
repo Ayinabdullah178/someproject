{
 "cells": [
  {
   "cell_type": "markdown",
   "id": "4a5b5007",
   "metadata": {},
   "source": [
    "# aufgabe 1"
   ]
  },
  {
   "cell_type": "markdown",
   "id": "35bd8fae",
   "metadata": {},
   "source": [
    "Du hast folgende Daten vorliegen: Auszug aus den Top 250 bewerteten Filmen und die Informationen zu Erscheinungsjahr, Laufzeit, Genre, Director, Schauspieler sowie die Information, ob Eric den Film gesehen (1 = gesehen, 0 = nicht gesehen) hat und ob er ihn richtig gut gefunden hat (1 = richtig gut, 0 = nicht richtig gut). Erstelle aus diesen Daten eine komplette Fallanalyse und bereite eine Präsentation zu den Top 250 Filmen selbst vor, zu den Filmen die Eric gesehen hat und zu den Filmen, die Eric gut fand. Unter anderem folgende Fragen könnten hierbei beantwortet werden:\n",
    "\n",
    "• Welches Genre ist wie häufig vertreten? • Gibt es ein Lieblingsgenre? • Gibt es Besonderheiten bei den vertretenen Jahresangaben? • Gibt es Unterschiede zwischen den Top 250 selbst und den Eric-Spalten? • Sind kürzere Filme oder längere Filme beliebt? • Sind bestimmte Schauspieler besonders häufig vertreten?\n",
    "\n",
    "Es sind für deine Kreativität keine Grenzen gesetzt. Wichtig ist: DU musst erklären können, was du wie gemacht hast, warum du etwas nicht gemacht hast und welche Information du daraus extrahieren wolltest. In der Präsentation kannst du Grafiken, bedingte Formatierungen, Texte und Bilder so verwenden, wie du möchtest!\n",
    "\n",
    "Folgende Frage muss beantwortet werden: Nach Durchsicht und unter Einbezug ALLER Informationen über Erics Top Filme: Welchen Film von der Top 250 Liste, die Eric noch nicht gesehen hat, sollte er sich unbedingt anschauen? Mit dieser Folie / Information sollte deine Präsentation abschließen!"
   ]
  },
  {
   "cell_type": "code",
   "execution_count": 10,
   "id": "7cf40fb6",
   "metadata": {},
   "outputs": [
    {
     "data": {
      "text/html": [
       "<div>\n",
       "<style scoped>\n",
       "    .dataframe tbody tr th:only-of-type {\n",
       "        vertical-align: middle;\n",
       "    }\n",
       "\n",
       "    .dataframe tbody tr th {\n",
       "        vertical-align: top;\n",
       "    }\n",
       "\n",
       "    .dataframe thead th {\n",
       "        text-align: right;\n",
       "    }\n",
       "</style>\n",
       "<table border=\"1\" class=\"dataframe\">\n",
       "  <thead>\n",
       "    <tr style=\"text-align: right;\">\n",
       "      <th></th>\n",
       "      <th>Ranking</th>\n",
       "      <th>Erics Top Filme</th>\n",
       "      <th>Gesehen</th>\n",
       "      <th>Title</th>\n",
       "      <th>Date</th>\n",
       "      <th>RunTime</th>\n",
       "      <th>Genre</th>\n",
       "      <th>Rating</th>\n",
       "      <th>Director</th>\n",
       "      <th>Cast1</th>\n",
       "      <th>Cast2</th>\n",
       "      <th>Cast3</th>\n",
       "      <th>Cast4</th>\n",
       "    </tr>\n",
       "  </thead>\n",
       "  <tbody>\n",
       "    <tr>\n",
       "      <th>0</th>\n",
       "      <td>1</td>\n",
       "      <td>1.0</td>\n",
       "      <td>1</td>\n",
       "      <td>The Shawshank Redemption</td>\n",
       "      <td>1994</td>\n",
       "      <td>142</td>\n",
       "      <td>Drama</td>\n",
       "      <td>93</td>\n",
       "      <td>Frank Darabont</td>\n",
       "      <td>Tim Robbins</td>\n",
       "      <td>Morgan Freeman</td>\n",
       "      <td>Bob Gunton</td>\n",
       "      <td>William Sadler</td>\n",
       "    </tr>\n",
       "    <tr>\n",
       "      <th>1</th>\n",
       "      <td>2</td>\n",
       "      <td>0.0</td>\n",
       "      <td>1</td>\n",
       "      <td>The Godfather</td>\n",
       "      <td>1972</td>\n",
       "      <td>175</td>\n",
       "      <td>Crime, Drama</td>\n",
       "      <td>92</td>\n",
       "      <td>Francis Ford Coppola</td>\n",
       "      <td>Marlon Brando</td>\n",
       "      <td>Al Pacino</td>\n",
       "      <td>James Caan</td>\n",
       "      <td>Diane Keaton</td>\n",
       "    </tr>\n",
       "    <tr>\n",
       "      <th>2</th>\n",
       "      <td>3</td>\n",
       "      <td>0.0</td>\n",
       "      <td>1</td>\n",
       "      <td>The Godfather: Part II</td>\n",
       "      <td>1974</td>\n",
       "      <td>202</td>\n",
       "      <td>Crime, Drama</td>\n",
       "      <td>90</td>\n",
       "      <td>Francis Ford Coppola</td>\n",
       "      <td>Al Pacino</td>\n",
       "      <td>Robert De Niro</td>\n",
       "      <td>Robert Duvall</td>\n",
       "      <td>Diane Keaton</td>\n",
       "    </tr>\n",
       "    <tr>\n",
       "      <th>3</th>\n",
       "      <td>4</td>\n",
       "      <td>1.0</td>\n",
       "      <td>1</td>\n",
       "      <td>The Dark Knight</td>\n",
       "      <td>2008</td>\n",
       "      <td>152</td>\n",
       "      <td>Action, Crime, Drama</td>\n",
       "      <td>90</td>\n",
       "      <td>Christopher Nolan</td>\n",
       "      <td>Christian Bale</td>\n",
       "      <td>Heath Ledger</td>\n",
       "      <td>Aaron Eckhart</td>\n",
       "      <td>Michael Caine</td>\n",
       "    </tr>\n",
       "    <tr>\n",
       "      <th>4</th>\n",
       "      <td>5</td>\n",
       "      <td>1.0</td>\n",
       "      <td>1</td>\n",
       "      <td>12 Angry Men</td>\n",
       "      <td>1957</td>\n",
       "      <td>96</td>\n",
       "      <td>Crime, Drama</td>\n",
       "      <td>90</td>\n",
       "      <td>Sidney Lumet</td>\n",
       "      <td>Henry Fonda</td>\n",
       "      <td>Lee J. Cobb</td>\n",
       "      <td>Martin Balsam</td>\n",
       "      <td>John Fiedler</td>\n",
       "    </tr>\n",
       "  </tbody>\n",
       "</table>\n",
       "</div>"
      ],
      "text/plain": [
       "   Ranking  Erics Top Filme  Gesehen                     Title  Date  RunTime  \\\n",
       "0        1              1.0        1  The Shawshank Redemption  1994      142   \n",
       "1        2              0.0        1             The Godfather  1972      175   \n",
       "2        3              0.0        1    The Godfather: Part II  1974      202   \n",
       "3        4              1.0        1           The Dark Knight  2008      152   \n",
       "4        5              1.0        1              12 Angry Men  1957       96   \n",
       "\n",
       "                  Genre  Rating              Director            Cast1  \\\n",
       "0                 Drama      93        Frank Darabont      Tim Robbins   \n",
       "1          Crime, Drama      92  Francis Ford Coppola    Marlon Brando   \n",
       "2          Crime, Drama      90  Francis Ford Coppola        Al Pacino   \n",
       "3  Action, Crime, Drama      90     Christopher Nolan   Christian Bale   \n",
       "4          Crime, Drama      90          Sidney Lumet      Henry Fonda   \n",
       "\n",
       "              Cast2            Cast3             Cast4  \n",
       "0    Morgan Freeman       Bob Gunton    William Sadler  \n",
       "1         Al Pacino       James Caan      Diane Keaton  \n",
       "2    Robert De Niro    Robert Duvall      Diane Keaton  \n",
       "3      Heath Ledger    Aaron Eckhart     Michael Caine  \n",
       "4       Lee J. Cobb    Martin Balsam      John Fiedler  "
      ]
     },
     "execution_count": 10,
     "metadata": {},
     "output_type": "execute_result"
    }
   ],
   "source": [
    "#die datei lesen\n",
    "import pandas as pd \n",
    "import numpy as np\n",
    "datei=pd.read_excel(\"Aufgabe 1 - IMDB Top 250.xlsx\")\n",
    "df=pd.DataFrame(datei)\n",
    "df.head()"
   ]
  },
  {
   "cell_type": "code",
   "execution_count": null,
   "id": "8fa98f2d",
   "metadata": {},
   "outputs": [],
   "source": []
  },
  {
   "cell_type": "code",
   "execution_count": 5,
   "id": "e4904108",
   "metadata": {},
   "outputs": [
    {
     "data": {
      "text/plain": [
       "Ranking              int64\n",
       "Erics Top Filme    float64\n",
       "Gesehen              int64\n",
       "Title               object\n",
       "Date                 int64\n",
       "RunTime              int64\n",
       "Genre               object\n",
       "Rating               int64\n",
       "Director            object\n",
       "Cast1               object\n",
       "Cast2               object\n",
       "Cast3               object\n",
       "Cast4               object\n",
       "dtype: object"
      ]
     },
     "execution_count": 5,
     "metadata": {},
     "output_type": "execute_result"
    }
   ],
   "source": [
    "#welche type hat jeder spalte\n",
    "df.dtypes"
   ]
  },
  {
   "cell_type": "code",
   "execution_count": 24,
   "id": "8e6f77ad",
   "metadata": {},
   "outputs": [
    {
     "data": {
      "text/plain": [
       "(250, 13)"
      ]
     },
     "execution_count": 24,
     "metadata": {},
     "output_type": "execute_result"
    }
   ],
   "source": [
    "#wie viel spalte & zeile hat dataframe\n",
    "df.shape"
   ]
  },
  {
   "cell_type": "code",
   "execution_count": 6,
   "id": "c1c31f50",
   "metadata": {},
   "outputs": [
    {
     "data": {
      "text/plain": [
       "Index(['Ranking', 'Erics Top Filme', 'Gesehen', 'Title', 'Date', 'RunTime',\n",
       "       'Genre', 'Rating', 'Director', 'Cast1', 'Cast2', 'Cast3', 'Cast4'],\n",
       "      dtype='object')"
      ]
     },
     "execution_count": 6,
     "metadata": {},
     "output_type": "execute_result"
    }
   ],
   "source": [
    "#name der spalte kenen\n",
    "df.columns"
   ]
  },
  {
   "cell_type": "code",
   "execution_count": null,
   "id": "e4f14e88",
   "metadata": {},
   "outputs": [],
   "source": [
    "\n"
   ]
  },
  {
   "cell_type": "code",
   "execution_count": 15,
   "id": "48ca5094",
   "metadata": {},
   "outputs": [
    {
     "data": {
      "text/plain": [
       "0      False\n",
       "1      False\n",
       "2      False\n",
       "3      False\n",
       "4      False\n",
       "       ...  \n",
       "245    False\n",
       "246    False\n",
       "247    False\n",
       "248    False\n",
       "249    False\n",
       "Name: Title, Length: 250, dtype: bool"
      ]
     },
     "execution_count": 15,
     "metadata": {},
     "output_type": "execute_result"
    }
   ],
   "source": [
    "eric[\"Title\"]==1"
   ]
  },
  {
   "cell_type": "code",
   "execution_count": 2,
   "id": "424db2ef",
   "metadata": {},
   "outputs": [
    {
     "data": {
      "text/plain": [
       "46"
      ]
     },
     "execution_count": 2,
     "metadata": {},
     "output_type": "execute_result"
    }
   ],
   "source": [
    "#wie viel Fielme haben Ihm gefahllen\n",
    "len(df.loc[df[\"Erics Top Filme\"]==1])"
   ]
  },
  {
   "cell_type": "code",
   "execution_count": 3,
   "id": "e1abf66c",
   "metadata": {},
   "outputs": [
    {
     "data": {
      "text/plain": [
       "77"
      ]
     },
     "execution_count": 3,
     "metadata": {},
     "output_type": "execute_result"
    }
   ],
   "source": [
    "#wie viel Fielme haben Ihm nicht gafehllen\n",
    "len(df.loc[df[\"Erics Top Filme\"]==0])"
   ]
  },
  {
   "cell_type": "code",
   "execution_count": 4,
   "id": "7e1fa69c",
   "metadata": {},
   "outputs": [
    {
     "data": {
      "text/plain": [
       "123"
      ]
     },
     "execution_count": 4,
     "metadata": {},
     "output_type": "execute_result"
    }
   ],
   "source": [
    "#wie viel Filme hat Eric gesen \n",
    "len(df.loc[df[\"Gesehen\"]==1])"
   ]
  },
  {
   "cell_type": "code",
   "execution_count": 186,
   "id": "64070b2d",
   "metadata": {},
   "outputs": [
    {
     "data": {
      "text/plain": [
       "127"
      ]
     },
     "execution_count": 186,
     "metadata": {},
     "output_type": "execute_result"
    }
   ],
   "source": [
    "#wie viel Filme hat Eric nicht gesen\n",
    "len(df.loc[df[\"Gesehen\"]==0])"
   ]
  },
  {
   "cell_type": "markdown",
   "id": "a5d0257d",
   "metadata": {},
   "source": [
    "### punkt eins(\tWelches Genre ist wie häufig vertreten? )\n"
   ]
  },
  {
   "cell_type": "code",
   "execution_count": 18,
   "id": "71af063a",
   "metadata": {},
   "outputs": [
    {
     "data": {
      "text/html": [
       "<div>\n",
       "<style scoped>\n",
       "    .dataframe tbody tr th:only-of-type {\n",
       "        vertical-align: middle;\n",
       "    }\n",
       "\n",
       "    .dataframe tbody tr th {\n",
       "        vertical-align: top;\n",
       "    }\n",
       "\n",
       "    .dataframe thead th {\n",
       "        text-align: right;\n",
       "    }\n",
       "</style>\n",
       "<table border=\"1\" class=\"dataframe\">\n",
       "  <thead>\n",
       "    <tr style=\"text-align: right;\">\n",
       "      <th></th>\n",
       "      <th>Genre</th>\n",
       "    </tr>\n",
       "  </thead>\n",
       "  <tbody>\n",
       "    <tr>\n",
       "      <th>Drama</th>\n",
       "      <td>20</td>\n",
       "    </tr>\n",
       "    <tr>\n",
       "      <th>Crime, Drama</th>\n",
       "      <td>14</td>\n",
       "    </tr>\n",
       "    <tr>\n",
       "      <th>Biography, Drama, History</th>\n",
       "      <td>9</td>\n",
       "    </tr>\n",
       "    <tr>\n",
       "      <th>Crime, Drama, Mystery</th>\n",
       "      <td>9</td>\n",
       "    </tr>\n",
       "    <tr>\n",
       "      <th>Animation, Adventure, Comedy</th>\n",
       "      <td>8</td>\n",
       "    </tr>\n",
       "    <tr>\n",
       "      <th>Drama, War</th>\n",
       "      <td>8</td>\n",
       "    </tr>\n",
       "    <tr>\n",
       "      <th>Drama, Romance</th>\n",
       "      <td>7</td>\n",
       "    </tr>\n",
       "    <tr>\n",
       "      <th>Action, Crime, Drama</th>\n",
       "      <td>6</td>\n",
       "    </tr>\n",
       "    <tr>\n",
       "      <th>Action, Adventure, Drama</th>\n",
       "      <td>6</td>\n",
       "    </tr>\n",
       "    <tr>\n",
       "      <th>Crime, Drama, Thriller</th>\n",
       "      <td>6</td>\n",
       "    </tr>\n",
       "  </tbody>\n",
       "</table>\n",
       "</div>"
      ],
      "text/plain": [
       "                              Genre\n",
       "Drama                            20\n",
       "Crime, Drama                     14\n",
       "Biography, Drama, History         9\n",
       "Crime, Drama, Mystery             9\n",
       "Animation, Adventure, Comedy      8\n",
       "Drama, War                        8\n",
       "Drama, Romance                    7\n",
       "Action, Crime, Drama              6\n",
       "Action, Adventure, Drama          6\n",
       "Crime, Drama, Thriller            6"
      ]
     },
     "execution_count": 18,
     "metadata": {},
     "output_type": "execute_result"
    }
   ],
   "source": [
    "#spalte Genre lesen und als dataframe speichern\n",
    "genree=df['Genre'].value_counts()\n",
    "genree=genree.to_frame()\n",
    "genreeh=genree.head(10)\n",
    "genreeh"
   ]
  },
  {
   "cell_type": "markdown",
   "id": "9f34aa8a",
   "metadata": {},
   "source": [
    "## punkt 2(Gibt es ein Lieblingsgenre? )"
   ]
  },
  {
   "cell_type": "code",
   "execution_count": 25,
   "id": "d5381c86",
   "metadata": {},
   "outputs": [
    {
     "data": {
      "text/plain": [
       "<AxesSubplot:>"
      ]
     },
     "execution_count": 25,
     "metadata": {},
     "output_type": "execute_result"
    },
    {
     "data": {
      "image/png": "[encoded data removed]",
      "text/plain": [
       "<Figure size 432x288 with 1 Axes>"
      ]
     },
     "metadata": {
      "needs_background": "light"
     },
     "output_type": "display_data"
    }
   ],
   "source": [
    "#die liblingsgenre zeigen\n",
    "genreeh.plot.bar()"
   ]
  },
  {
   "cell_type": "code",
   "execution_count": null,
   "id": "685723bf",
   "metadata": {},
   "outputs": [],
   "source": []
  },
  {
   "cell_type": "code",
   "execution_count": 4,
   "id": "538f9b43",
   "metadata": {},
   "outputs": [],
   "source": [
    "#welche Genre ist mehr gesehen\n",
    "genvertr=df[[\"Genre\",\"Gesehen\"]]\n",
    "\n",
    "drama=genvertr[genvertr.Genre.str.match('.[Drama]')]\n",
    "\n",
    "\n",
    "\n"
   ]
  },
  {
   "cell_type": "markdown",
   "id": "6086cd7c",
   "metadata": {},
   "source": []
  },
  {
   "cell_type": "code",
   "execution_count": 5,
   "id": "4d33c70b",
   "metadata": {},
   "outputs": [
    {
     "data": {
      "text/plain": [
       "106"
      ]
     },
     "execution_count": 5,
     "metadata": {},
     "output_type": "execute_result"
    }
   ],
   "source": [
    "len(drama)"
   ]
  },
  {
   "cell_type": "markdown",
   "id": "16b713e4",
   "metadata": {},
   "source": [
    "## punkt 3(Gibt es Besonderheiten bei den vertretenen Jahresangaben? )"
   ]
  },
  {
   "cell_type": "code",
   "execution_count": 75,
   "id": "fccde64d",
   "metadata": {},
   "outputs": [
    {
     "data": {
      "text/html": [
       "<div>\n",
       "<style scoped>\n",
       "    .dataframe tbody tr th:only-of-type {\n",
       "        vertical-align: middle;\n",
       "    }\n",
       "\n",
       "    .dataframe tbody tr th {\n",
       "        vertical-align: top;\n",
       "    }\n",
       "\n",
       "    .dataframe thead th {\n",
       "        text-align: right;\n",
       "    }\n",
       "</style>\n",
       "<table border=\"1\" class=\"dataframe\">\n",
       "  <thead>\n",
       "    <tr style=\"text-align: right;\">\n",
       "      <th></th>\n",
       "      <th>Date</th>\n",
       "    </tr>\n",
       "  </thead>\n",
       "  <tbody>\n",
       "    <tr>\n",
       "      <th>1995</th>\n",
       "      <td>8</td>\n",
       "    </tr>\n",
       "    <tr>\n",
       "      <th>1957</th>\n",
       "      <td>7</td>\n",
       "    </tr>\n",
       "    <tr>\n",
       "      <th>2004</th>\n",
       "      <td>6</td>\n",
       "    </tr>\n",
       "    <tr>\n",
       "      <th>2009</th>\n",
       "      <td>6</td>\n",
       "    </tr>\n",
       "    <tr>\n",
       "      <th>2018</th>\n",
       "      <td>6</td>\n",
       "    </tr>\n",
       "  </tbody>\n",
       "</table>\n",
       "</div>"
      ],
      "text/plain": [
       "      Date\n",
       "1995     8\n",
       "1957     7\n",
       "2004     6\n",
       "2009     6\n",
       "2018     6"
      ]
     },
     "execution_count": 75,
     "metadata": {},
     "output_type": "execute_result"
    }
   ],
   "source": [
    "#die spalte date lesen und ais datafram speichern um wissen wie viel mal hat getret\n",
    "jahr=df[\"Date\"].value_counts()\n",
    "jahr_fram=jahr.to_frame()\n",
    "jahr_fram.head()"
   ]
  },
  {
   "cell_type": "code",
   "execution_count": 21,
   "id": "d639240d",
   "metadata": {},
   "outputs": [
    {
     "data": {
      "text/html": [
       "<div>\n",
       "<style scoped>\n",
       "    .dataframe tbody tr th:only-of-type {\n",
       "        vertical-align: middle;\n",
       "    }\n",
       "\n",
       "    .dataframe tbody tr th {\n",
       "        vertical-align: top;\n",
       "    }\n",
       "\n",
       "    .dataframe thead th {\n",
       "        text-align: right;\n",
       "    }\n",
       "</style>\n",
       "<table border=\"1\" class=\"dataframe\">\n",
       "  <thead>\n",
       "    <tr style=\"text-align: right;\">\n",
       "      <th></th>\n",
       "      <th>Title</th>\n",
       "      <th>Rating</th>\n",
       "    </tr>\n",
       "  </thead>\n",
       "  <tbody>\n",
       "    <tr>\n",
       "      <th>3</th>\n",
       "      <td>The Dark Knight</td>\n",
       "      <td>90</td>\n",
       "    </tr>\n",
       "    <tr>\n",
       "      <th>2</th>\n",
       "      <td>The Godfather: Part II</td>\n",
       "      <td>90</td>\n",
       "    </tr>\n",
       "    <tr>\n",
       "      <th>1</th>\n",
       "      <td>The Godfather</td>\n",
       "      <td>92</td>\n",
       "    </tr>\n",
       "    <tr>\n",
       "      <th>139</th>\n",
       "      <td>Jai Bhim</td>\n",
       "      <td>93</td>\n",
       "    </tr>\n",
       "    <tr>\n",
       "      <th>0</th>\n",
       "      <td>The Shawshank Redemption</td>\n",
       "      <td>93</td>\n",
       "    </tr>\n",
       "  </tbody>\n",
       "</table>\n",
       "</div>"
      ],
      "text/plain": [
       "                        Title  Rating\n",
       "3             The Dark Knight      90\n",
       "2      The Godfather: Part II      90\n",
       "1               The Godfather      92\n",
       "139                  Jai Bhim      93\n",
       "0    The Shawshank Redemption      93"
      ]
     },
     "execution_count": 21,
     "metadata": {},
     "output_type": "execute_result"
    }
   ],
   "source": [
    "#die beste 5 Filme \n",
    "rattitel=df[[\"Title\",\"Rating\"]]\n",
    "reiting=rattitel.sort_values(by=[\"Rating\"])\n",
    "\n",
    "best=reiting.tail(5)\n",
    "best"
   ]
  },
  {
   "cell_type": "markdown",
   "id": "8444b8c1",
   "metadata": {},
   "source": [
    "## punkt 5(Sind kürzere Filme oder längere Filme beliebt? )"
   ]
  },
  {
   "cell_type": "code",
   "execution_count": 33,
   "id": "27dd15ef",
   "metadata": {},
   "outputs": [
    {
     "data": {
      "text/html": [
       "<div>\n",
       "<style scoped>\n",
       "    .dataframe tbody tr th:only-of-type {\n",
       "        vertical-align: middle;\n",
       "    }\n",
       "\n",
       "    .dataframe tbody tr th {\n",
       "        vertical-align: top;\n",
       "    }\n",
       "\n",
       "    .dataframe thead th {\n",
       "        text-align: right;\n",
       "    }\n",
       "</style>\n",
       "<table border=\"1\" class=\"dataframe\">\n",
       "  <thead>\n",
       "    <tr style=\"text-align: right;\">\n",
       "      <th></th>\n",
       "      <th>RunTime</th>\n",
       "    </tr>\n",
       "    <tr>\n",
       "      <th>Title</th>\n",
       "      <th></th>\n",
       "    </tr>\n",
       "  </thead>\n",
       "  <tbody>\n",
       "    <tr>\n",
       "      <th>Ben-Hur</th>\n",
       "      <td>212</td>\n",
       "    </tr>\n",
       "    <tr>\n",
       "      <th>Lawrence of Arabia</th>\n",
       "      <td>228</td>\n",
       "    </tr>\n",
       "    <tr>\n",
       "      <th>Once Upon a Time in America</th>\n",
       "      <td>229</td>\n",
       "    </tr>\n",
       "    <tr>\n",
       "      <th>Gone with the Wind</th>\n",
       "      <td>238</td>\n",
       "    </tr>\n",
       "    <tr>\n",
       "      <th>Gangs of Wasseypur</th>\n",
       "      <td>321</td>\n",
       "    </tr>\n",
       "  </tbody>\n",
       "</table>\n",
       "</div>"
      ],
      "text/plain": [
       "                             RunTime\n",
       "Title                               \n",
       "Ben-Hur                          212\n",
       "Lawrence of Arabia               228\n",
       "Once Upon a Time in America      229\n",
       "Gone with the Wind               238\n",
       "Gangs of Wasseypur               321"
      ]
     },
     "execution_count": 33,
     "metadata": {},
     "output_type": "execute_result"
    }
   ],
   "source": [
    "#die lengste 5 Filme und als geumetre zeigen\n",
    "lang=df[[\"Title\",\"RunTime\"]]\n",
    "\n",
    "lang=lang.sort_values(by=[\"RunTime\"])\n",
    "\n",
    "lang.set_index(\"Title\",inplace=True)\n",
    "lang\n",
    "funf_lengst= lang.tail(5)\n",
    "funf_lengst"
   ]
  },
  {
   "cell_type": "code",
   "execution_count": 38,
   "id": "66e8e055",
   "metadata": {},
   "outputs": [
    {
     "data": {
      "image/png": "[encoded data removed]",
      "text/plain": [
       "<Figure size 720x360 with 1 Axes>"
      ]
     },
     "metadata": {
      "needs_background": "light"
     },
     "output_type": "display_data"
    }
   ],
   "source": [
    "funf_plot=funf_lengst.plot.bar( figsize=(10, 5), rot=150)"
   ]
  },
  {
   "cell_type": "code",
   "execution_count": 35,
   "id": "d70463ac",
   "metadata": {},
   "outputs": [
    {
     "data": {
      "text/html": [
       "<div>\n",
       "<style scoped>\n",
       "    .dataframe tbody tr th:only-of-type {\n",
       "        vertical-align: middle;\n",
       "    }\n",
       "\n",
       "    .dataframe tbody tr th {\n",
       "        vertical-align: top;\n",
       "    }\n",
       "\n",
       "    .dataframe thead th {\n",
       "        text-align: right;\n",
       "    }\n",
       "</style>\n",
       "<table border=\"1\" class=\"dataframe\">\n",
       "  <thead>\n",
       "    <tr style=\"text-align: right;\">\n",
       "      <th></th>\n",
       "      <th>RunTime</th>\n",
       "    </tr>\n",
       "    <tr>\n",
       "      <th>Title</th>\n",
       "      <th></th>\n",
       "    </tr>\n",
       "  </thead>\n",
       "  <tbody>\n",
       "    <tr>\n",
       "      <th>Sherlock Jr.</th>\n",
       "      <td>45</td>\n",
       "    </tr>\n",
       "    <tr>\n",
       "      <th>The General</th>\n",
       "      <td>67</td>\n",
       "    </tr>\n",
       "    <tr>\n",
       "      <th>The Kid</th>\n",
       "      <td>68</td>\n",
       "    </tr>\n",
       "    <tr>\n",
       "      <th>Before Sunset</th>\n",
       "      <td>80</td>\n",
       "    </tr>\n",
       "    <tr>\n",
       "      <th>Toy Story</th>\n",
       "      <td>81</td>\n",
       "    </tr>\n",
       "  </tbody>\n",
       "</table>\n",
       "</div>"
      ],
      "text/plain": [
       "               RunTime\n",
       "Title                 \n",
       "Sherlock Jr.        45\n",
       "The General         67\n",
       "The Kid             68\n",
       "Before Sunset       80\n",
       "Toy Story           81"
      ]
     },
     "execution_count": 35,
     "metadata": {},
     "output_type": "execute_result"
    }
   ],
   "source": [
    "#die kürzeste 5 Filme \n",
    "kurtz=df[[\"Title\",\"RunTime\"]]\n",
    "kurtz=kurtz.sort_values(by=[\"RunTime\"])\n",
    "kurtz.set_index(\"Title\",inplace=True)\n",
    "\n",
    "funf_kurtze=kurtz.head(5)\n",
    "funf_kurtze"
   ]
  },
  {
   "cell_type": "code",
   "execution_count": 36,
   "id": "db3b966b",
   "metadata": {},
   "outputs": [
    {
     "data": {
      "text/plain": [
       "<AxesSubplot:xlabel='Title'>"
      ]
     },
     "execution_count": 36,
     "metadata": {},
     "output_type": "execute_result"
    },
    {
     "data": {
      "image/png": "[encoded data removed]",
      "text/plain": [
       "<Figure size 720x360 with 1 Axes>"
      ]
     },
     "metadata": {
      "needs_background": "light"
     },
     "output_type": "display_data"
    }
   ],
   "source": [
    "#ein diagram für 5 kurtze filme und als grafik zeigen\n",
    "funf_kurtze.plot.line( figsize=(10, 5), rot=150)"
   ]
  },
  {
   "cell_type": "code",
   "execution_count": 36,
   "id": "8d21ac47",
   "metadata": {},
   "outputs": [
    {
     "data": {
      "text/plain": [
       "Text(0, 0.5, 'RunTime')"
      ]
     },
     "execution_count": 36,
     "metadata": {},
     "output_type": "execute_result"
    },
    {
     "data": {
      "image/png": "[encoded data removed]",
      "text/plain": [
       "<Figure size 720x360 with 1 Axes>"
      ]
     },
     "metadata": {
      "needs_background": "light"
     },
     "output_type": "display_data"
    }
   ],
   "source": [
    "#unterschit zwischen 5 kürtze und 5länge filme \n",
    "import matplotlib.pyplot as plt\n",
    "funf_plot=funf_lengst.plot.bar( figsize=(10, 5), rot=150)\n",
    "funf_kurtze.plot.bar( figsize=(10, 5),color=\"r\", rot=150,ax=funf_plot)\n",
    "plt.title(\"die untersit zwischen die längste und kürtze Filme\")\n",
    "plt.xlabel(\"Title\")\n",
    "plt.ylabel(\"RunTime\")"
   ]
  },
  {
   "cell_type": "code",
   "execution_count": 53,
   "id": "9c18f6bb",
   "metadata": {},
   "outputs": [
    {
     "data": {
      "text/html": [
       "<div>\n",
       "<style scoped>\n",
       "    .dataframe tbody tr th:only-of-type {\n",
       "        vertical-align: middle;\n",
       "    }\n",
       "\n",
       "    .dataframe tbody tr th {\n",
       "        vertical-align: top;\n",
       "    }\n",
       "\n",
       "    .dataframe thead th {\n",
       "        text-align: right;\n",
       "    }\n",
       "</style>\n",
       "<table border=\"1\" class=\"dataframe\">\n",
       "  <thead>\n",
       "    <tr style=\"text-align: right;\">\n",
       "      <th></th>\n",
       "      <th>RunTime</th>\n",
       "      <th>Rating</th>\n",
       "    </tr>\n",
       "  </thead>\n",
       "  <tbody>\n",
       "    <tr>\n",
       "      <th>190</th>\n",
       "      <td>45</td>\n",
       "      <td>82</td>\n",
       "    </tr>\n",
       "    <tr>\n",
       "      <th>189</th>\n",
       "      <td>67</td>\n",
       "      <td>81</td>\n",
       "    </tr>\n",
       "    <tr>\n",
       "      <th>103</th>\n",
       "      <td>68</td>\n",
       "      <td>83</td>\n",
       "    </tr>\n",
       "    <tr>\n",
       "      <th>241</th>\n",
       "      <td>80</td>\n",
       "      <td>81</td>\n",
       "    </tr>\n",
       "    <tr>\n",
       "      <th>80</th>\n",
       "      <td>81</td>\n",
       "      <td>83</td>\n",
       "    </tr>\n",
       "    <tr>\n",
       "      <th>...</th>\n",
       "      <td>...</td>\n",
       "      <td>...</td>\n",
       "    </tr>\n",
       "    <tr>\n",
       "      <th>211</th>\n",
       "      <td>212</td>\n",
       "      <td>81</td>\n",
       "    </tr>\n",
       "    <tr>\n",
       "      <th>102</th>\n",
       "      <td>228</td>\n",
       "      <td>83</td>\n",
       "    </tr>\n",
       "    <tr>\n",
       "      <th>74</th>\n",
       "      <td>229</td>\n",
       "      <td>83</td>\n",
       "    </tr>\n",
       "    <tr>\n",
       "      <th>179</th>\n",
       "      <td>238</td>\n",
       "      <td>81</td>\n",
       "    </tr>\n",
       "    <tr>\n",
       "      <th>226</th>\n",
       "      <td>321</td>\n",
       "      <td>82</td>\n",
       "    </tr>\n",
       "  </tbody>\n",
       "</table>\n",
       "<p>250 rows × 2 columns</p>\n",
       "</div>"
      ],
      "text/plain": [
       "     RunTime  Rating\n",
       "190       45      82\n",
       "189       67      81\n",
       "103       68      83\n",
       "241       80      81\n",
       "80        81      83\n",
       "..       ...     ...\n",
       "211      212      81\n",
       "102      228      83\n",
       "74       229      83\n",
       "179      238      81\n",
       "226      321      82\n",
       "\n",
       "[250 rows x 2 columns]"
      ]
     },
     "execution_count": 53,
     "metadata": {},
     "output_type": "execute_result"
    },
    {
     "data": {
      "image/png": "[encoded data removed]",
      "text/plain": [
       "<Figure size 720x360 with 1 Axes>"
      ]
     },
     "metadata": {
      "needs_background": "light"
     },
     "output_type": "display_data"
    }
   ],
   "source": [
    "#die kurtze uder lange filme haben viele Rating\n",
    "beliebste=df[[\"RunTime\",\"Rating\"]]\n",
    "beliebste=beliebste.sort_values(by=[\"RunTime\"])\n",
    "\n",
    "beliebste.plot.scatter(x=\"RunTime\", y=\"Rating\",figsize=(10, 5))\n",
    "beliebste\n",
    "#die beliebste filme sind die zwichen ein ein stunde und 3 stunden"
   ]
  },
  {
   "cell_type": "code",
   "execution_count": 51,
   "id": "7fde1373",
   "metadata": {},
   "outputs": [
    {
     "data": {
      "text/html": [
       "<div>\n",
       "<style scoped>\n",
       "    .dataframe tbody tr th:only-of-type {\n",
       "        vertical-align: middle;\n",
       "    }\n",
       "\n",
       "    .dataframe tbody tr th {\n",
       "        vertical-align: top;\n",
       "    }\n",
       "\n",
       "    .dataframe thead tr th {\n",
       "        text-align: left;\n",
       "    }\n",
       "\n",
       "    .dataframe thead tr:last-of-type th {\n",
       "        text-align: right;\n",
       "    }\n",
       "</style>\n",
       "<table border=\"1\" class=\"dataframe\">\n",
       "  <thead>\n",
       "    <tr>\n",
       "      <th></th>\n",
       "      <th>Rating</th>\n",
       "      <th>Genre</th>\n",
       "    </tr>\n",
       "    <tr>\n",
       "      <th></th>\n",
       "      <th>max</th>\n",
       "      <th>sum</th>\n",
       "    </tr>\n",
       "    <tr>\n",
       "      <th>Date</th>\n",
       "      <th></th>\n",
       "      <th></th>\n",
       "    </tr>\n",
       "  </thead>\n",
       "  <tbody>\n",
       "    <tr>\n",
       "      <th>2012</th>\n",
       "      <td>84</td>\n",
       "      <td>Action, Comedy, CrimeDrama, WesternDramaAction...</td>\n",
       "    </tr>\n",
       "    <tr>\n",
       "      <th>2013</th>\n",
       "      <td>82</td>\n",
       "      <td>Biography, Comedy, CrimeBiography, Drama, Hist...</td>\n",
       "    </tr>\n",
       "    <tr>\n",
       "      <th>2014</th>\n",
       "      <td>86</td>\n",
       "      <td>Comedy, Drama, ThrillerAdventure, Comedy, Crim...</td>\n",
       "    </tr>\n",
       "    <tr>\n",
       "      <th>2015</th>\n",
       "      <td>81</td>\n",
       "      <td>Drama, ThrillerAction, Adventure, Sci-FiBiogra...</td>\n",
       "    </tr>\n",
       "    <tr>\n",
       "      <th>2016</th>\n",
       "      <td>84</td>\n",
       "      <td>Animation, Drama, FantasyAction, Biography, Dr...</td>\n",
       "    </tr>\n",
       "    <tr>\n",
       "      <th>2017</th>\n",
       "      <td>84</td>\n",
       "      <td>Action, Drama, Sci-FiAnimation, Adventure, Com...</td>\n",
       "    </tr>\n",
       "    <tr>\n",
       "      <th>2018</th>\n",
       "      <td>84</td>\n",
       "      <td>Action, Adventure, Sci-FiDramaCrime, Drama, My...</td>\n",
       "    </tr>\n",
       "    <tr>\n",
       "      <th>2019</th>\n",
       "      <td>86</td>\n",
       "      <td>Action, Drama, WarAction, Biography, DramaCrim...</td>\n",
       "    </tr>\n",
       "    <tr>\n",
       "      <th>2020</th>\n",
       "      <td>84</td>\n",
       "      <td>Drama, MysteryBiography, Drama, History</td>\n",
       "    </tr>\n",
       "    <tr>\n",
       "      <th>2021</th>\n",
       "      <td>93</td>\n",
       "      <td>Crime, DramaAction, Adventure, FantasyAction, ...</td>\n",
       "    </tr>\n",
       "  </tbody>\n",
       "</table>\n",
       "</div>"
      ],
      "text/plain": [
       "     Rating                                              Genre\n",
       "        max                                                sum\n",
       "Date                                                          \n",
       "2012     84  Action, Comedy, CrimeDrama, WesternDramaAction...\n",
       "2013     82  Biography, Comedy, CrimeBiography, Drama, Hist...\n",
       "2014     86  Comedy, Drama, ThrillerAdventure, Comedy, Crim...\n",
       "2015     81  Drama, ThrillerAction, Adventure, Sci-FiBiogra...\n",
       "2016     84  Animation, Drama, FantasyAction, Biography, Dr...\n",
       "2017     84  Action, Drama, Sci-FiAnimation, Adventure, Com...\n",
       "2018     84  Action, Adventure, Sci-FiDramaCrime, Drama, My...\n",
       "2019     86  Action, Drama, WarAction, Biography, DramaCrim...\n",
       "2020     84            Drama, MysteryBiography, Drama, History\n",
       "2021     93  Crime, DramaAction, Adventure, FantasyAction, ..."
      ]
     },
     "execution_count": 51,
     "metadata": {},
     "output_type": "execute_result"
    },
    {
     "data": {
      "image/png": "[encoded data removed]",
      "text/plain": [
       "<Figure size 720x360 with 1 Axes>"
      ]
     },
     "metadata": {
      "needs_background": "light"
     },
     "output_type": "display_data"
    }
   ],
   "source": [
    "#welche Genre hat die hohe Rating\n",
    "dataa=df[[\"Date\",\"Genre\",\"Rating\"]]\n",
    "datum=dataa.sort_values(by=[\"Date\"])\n",
    "datgrup=datum.groupby('Date').agg({\"Rating\": [\"max\"],\"Genre\":[\"sum\"]})\n",
    "\n",
    "dg=datgrup.tail(10)\n",
    "dg.plot.line(figsize=(10, 5))\n",
    "dg\n"
   ]
  },
  {
   "cell_type": "code",
   "execution_count": 57,
   "id": "85c66703",
   "metadata": {},
   "outputs": [
    {
     "data": {
      "text/plain": [
       "<AxesSubplot:xlabel='Genre'>"
      ]
     },
     "execution_count": 57,
     "metadata": {},
     "output_type": "execute_result"
    },
    {
     "data": {
      "image/png": "[encoded data removed]",
      "text/plain": [
       "<Figure size 1440x360 with 1 Axes>"
      ]
     },
     "metadata": {
      "needs_background": "light"
     },
     "output_type": "display_data"
    }
   ],
   "source": [
    "data5=df[[\"Date\",\"Genre\"]]\n",
    "\n",
    "gd=data5.groupby('Genre').agg({\"Date\":[\"sum\"]})\n",
    "\n",
    "gd.Date.plot.bar(figsize=(20,5))"
   ]
  },
  {
   "cell_type": "code",
   "execution_count": null,
   "id": "39055028",
   "metadata": {},
   "outputs": [],
   "source": []
  },
  {
   "cell_type": "code",
   "execution_count": 15,
   "id": "e7dcdcd9",
   "metadata": {},
   "outputs": [
    {
     "data": {
      "text/html": [
       "<div>\n",
       "<style scoped>\n",
       "    .dataframe tbody tr th:only-of-type {\n",
       "        vertical-align: middle;\n",
       "    }\n",
       "\n",
       "    .dataframe tbody tr th {\n",
       "        vertical-align: top;\n",
       "    }\n",
       "\n",
       "    .dataframe thead th {\n",
       "        text-align: right;\n",
       "    }\n",
       "</style>\n",
       "<table border=\"1\" class=\"dataframe\">\n",
       "  <thead>\n",
       "    <tr style=\"text-align: right;\">\n",
       "      <th></th>\n",
       "      <th>Director</th>\n",
       "      <th>Title</th>\n",
       "      <th>Cast1</th>\n",
       "      <th>Cast2</th>\n",
       "      <th>Cast3</th>\n",
       "      <th>Cast4</th>\n",
       "    </tr>\n",
       "  </thead>\n",
       "  <tbody>\n",
       "    <tr>\n",
       "      <th>0</th>\n",
       "      <td>Frank Darabont</td>\n",
       "      <td>The Shawshank Redemption</td>\n",
       "      <td>Tim Robbins</td>\n",
       "      <td>Morgan Freeman</td>\n",
       "      <td>Bob Gunton</td>\n",
       "      <td>William Sadler</td>\n",
       "    </tr>\n",
       "    <tr>\n",
       "      <th>1</th>\n",
       "      <td>Francis Ford Coppola</td>\n",
       "      <td>The Godfather</td>\n",
       "      <td>Marlon Brando</td>\n",
       "      <td>Al Pacino</td>\n",
       "      <td>James Caan</td>\n",
       "      <td>Diane Keaton</td>\n",
       "    </tr>\n",
       "    <tr>\n",
       "      <th>2</th>\n",
       "      <td>Francis Ford Coppola</td>\n",
       "      <td>The Godfather: Part II</td>\n",
       "      <td>Al Pacino</td>\n",
       "      <td>Robert De Niro</td>\n",
       "      <td>Robert Duvall</td>\n",
       "      <td>Diane Keaton</td>\n",
       "    </tr>\n",
       "    <tr>\n",
       "      <th>3</th>\n",
       "      <td>Christopher Nolan</td>\n",
       "      <td>The Dark Knight</td>\n",
       "      <td>Christian Bale</td>\n",
       "      <td>Heath Ledger</td>\n",
       "      <td>Aaron Eckhart</td>\n",
       "      <td>Michael Caine</td>\n",
       "    </tr>\n",
       "    <tr>\n",
       "      <th>4</th>\n",
       "      <td>Sidney Lumet</td>\n",
       "      <td>12 Angry Men</td>\n",
       "      <td>Henry Fonda</td>\n",
       "      <td>Lee J. Cobb</td>\n",
       "      <td>Martin Balsam</td>\n",
       "      <td>John Fiedler</td>\n",
       "    </tr>\n",
       "    <tr>\n",
       "      <th>...</th>\n",
       "      <td>...</td>\n",
       "      <td>...</td>\n",
       "      <td>...</td>\n",
       "      <td>...</td>\n",
       "      <td>...</td>\n",
       "      <td>...</td>\n",
       "    </tr>\n",
       "    <tr>\n",
       "      <th>245</th>\n",
       "      <td>Gillo Pontecorvo</td>\n",
       "      <td>The Battle of Algiers</td>\n",
       "      <td>Brahim Hadjadj</td>\n",
       "      <td>Jean Martin</td>\n",
       "      <td>Yacef Saadi</td>\n",
       "      <td>Samia Kerbash</td>\n",
       "    </tr>\n",
       "    <tr>\n",
       "      <th>246</th>\n",
       "      <td>Federico Fellini</td>\n",
       "      <td>Nights of Cabiria</td>\n",
       "      <td>Giulietta Masina</td>\n",
       "      <td>François Périer</td>\n",
       "      <td>Franca Marzi</td>\n",
       "      <td>Dorian Gray</td>\n",
       "    </tr>\n",
       "    <tr>\n",
       "      <th>247</th>\n",
       "      <td>Rob Reiner</td>\n",
       "      <td>The Princess Bride</td>\n",
       "      <td>Cary Elwes</td>\n",
       "      <td>Mandy Patinkin</td>\n",
       "      <td>Robin Wright</td>\n",
       "      <td>Chris Sarandon</td>\n",
       "    </tr>\n",
       "    <tr>\n",
       "      <th>248</th>\n",
       "      <td>Ram Kumar</td>\n",
       "      <td>Raatchasan</td>\n",
       "      <td>Vishnu Vishal</td>\n",
       "      <td>Amala Paul</td>\n",
       "      <td>Radha Ravi</td>\n",
       "      <td>Sangili Murugan</td>\n",
       "    </tr>\n",
       "    <tr>\n",
       "      <th>249</th>\n",
       "      <td>Shoojit Sircar</td>\n",
       "      <td>Sardar Udham</td>\n",
       "      <td>Vicky Kaushal</td>\n",
       "      <td>Banita Sandhu</td>\n",
       "      <td>Shaun Scott</td>\n",
       "      <td>Stephen Hogan</td>\n",
       "    </tr>\n",
       "  </tbody>\n",
       "</table>\n",
       "<p>250 rows × 6 columns</p>\n",
       "</div>"
      ],
      "text/plain": [
       "                 Director                     Title              Cast1  \\\n",
       "0          Frank Darabont  The Shawshank Redemption        Tim Robbins   \n",
       "1    Francis Ford Coppola             The Godfather      Marlon Brando   \n",
       "2    Francis Ford Coppola    The Godfather: Part II          Al Pacino   \n",
       "3       Christopher Nolan           The Dark Knight     Christian Bale   \n",
       "4            Sidney Lumet              12 Angry Men        Henry Fonda   \n",
       "..                    ...                       ...                ...   \n",
       "245      Gillo Pontecorvo     The Battle of Algiers     Brahim Hadjadj   \n",
       "246      Federico Fellini         Nights of Cabiria   Giulietta Masina   \n",
       "247            Rob Reiner        The Princess Bride         Cary Elwes   \n",
       "248             Ram Kumar                Raatchasan      Vishnu Vishal   \n",
       "249        Shoojit Sircar              Sardar Udham      Vicky Kaushal   \n",
       "\n",
       "                 Cast2            Cast3              Cast4  \n",
       "0       Morgan Freeman       Bob Gunton     William Sadler  \n",
       "1            Al Pacino       James Caan       Diane Keaton  \n",
       "2       Robert De Niro    Robert Duvall       Diane Keaton  \n",
       "3         Heath Ledger    Aaron Eckhart      Michael Caine  \n",
       "4          Lee J. Cobb    Martin Balsam       John Fiedler  \n",
       "..                 ...              ...                ...  \n",
       "245        Jean Martin      Yacef Saadi      Samia Kerbash  \n",
       "246    François Périer     Franca Marzi        Dorian Gray  \n",
       "247     Mandy Patinkin     Robin Wright     Chris Sarandon  \n",
       "248         Amala Paul       Radha Ravi    Sangili Murugan  \n",
       "249      Banita Sandhu      Shaun Scott      Stephen Hogan  \n",
       "\n",
       "[250 rows x 6 columns]"
      ]
     },
     "execution_count": 15,
     "metadata": {},
     "output_type": "execute_result"
    }
   ],
   "source": [
    "actors = df.filter(items=[\"Director\",\"Title\", \"Cast1\", \"Cast2\", \"Cast3\", \"Cast4\"])\n",
    "actors"
   ]
  },
  {
   "cell_type": "code",
   "execution_count": null,
   "id": "01ba231c",
   "metadata": {},
   "outputs": [],
   "source": []
  },
  {
   "cell_type": "code",
   "execution_count": 116,
   "id": "ac215cf4",
   "metadata": {},
   "outputs": [
    {
     "data": {
      "text/html": [
       "<div>\n",
       "<style scoped>\n",
       "    .dataframe tbody tr th:only-of-type {\n",
       "        vertical-align: middle;\n",
       "    }\n",
       "\n",
       "    .dataframe tbody tr th {\n",
       "        vertical-align: top;\n",
       "    }\n",
       "\n",
       "    .dataframe thead th {\n",
       "        text-align: right;\n",
       "    }\n",
       "</style>\n",
       "<table border=\"1\" class=\"dataframe\">\n",
       "  <thead>\n",
       "    <tr style=\"text-align: right;\">\n",
       "      <th></th>\n",
       "      <th>Cast1</th>\n",
       "    </tr>\n",
       "  </thead>\n",
       "  <tbody>\n",
       "    <tr>\n",
       "      <th>Mark Hamill</th>\n",
       "      <td>3</td>\n",
       "    </tr>\n",
       "    <tr>\n",
       "      <th>Harrison Ford</th>\n",
       "      <td>3</td>\n",
       "    </tr>\n",
       "    <tr>\n",
       "      <th>Clint Eastwood</th>\n",
       "      <td>4</td>\n",
       "    </tr>\n",
       "    <tr>\n",
       "      <th>Toshirô Mifune</th>\n",
       "      <td>4</td>\n",
       "    </tr>\n",
       "    <tr>\n",
       "      <th>Christian Bale</th>\n",
       "      <td>4</td>\n",
       "    </tr>\n",
       "    <tr>\n",
       "      <th>James Stewart</th>\n",
       "      <td>4</td>\n",
       "    </tr>\n",
       "    <tr>\n",
       "      <th>Charles Chaplin</th>\n",
       "      <td>5</td>\n",
       "    </tr>\n",
       "    <tr>\n",
       "      <th>Leonardo DiCaprio</th>\n",
       "      <td>5</td>\n",
       "    </tr>\n",
       "    <tr>\n",
       "      <th>Tom Hanks</th>\n",
       "      <td>5</td>\n",
       "    </tr>\n",
       "    <tr>\n",
       "      <th>Robert De Niro</th>\n",
       "      <td>6</td>\n",
       "    </tr>\n",
       "  </tbody>\n",
       "</table>\n",
       "</div>"
      ],
      "text/plain": [
       "                    Cast1\n",
       " Mark Hamill            3\n",
       " Harrison Ford          3\n",
       " Clint Eastwood         4\n",
       " Toshirô Mifune         4\n",
       " Christian Bale         4\n",
       " James Stewart          4\n",
       " Charles Chaplin        5\n",
       " Leonardo DiCaprio      5\n",
       " Tom Hanks              5\n",
       " Robert De Niro         6"
      ]
     },
     "execution_count": 116,
     "metadata": {},
     "output_type": "execute_result"
    },
    {
     "data": {
      "image/png": "[encoded data removed]",
      "text/plain": [
       "<Figure size 432x288 with 1 Axes>"
      ]
     },
     "metadata": {
      "needs_background": "light"
     },
     "output_type": "display_data"
    }
   ],
   "source": [
    "#die schauspile ,die mehr mal spielen und als grafik zeigen\n",
    "cast1=df[\"Cast1\"].value_counts()\n",
    "castt1=cast1.to_frame()\n",
    "castt1=castt1.sort_values(by=[\"Cast1\"])\n",
    "spieler=castt1.tail(10)\n",
    "spieler.plot.bar()\n",
    "spieler"
   ]
  },
  {
   "cell_type": "code",
   "execution_count": 104,
   "id": "31b17252",
   "metadata": {},
   "outputs": [
    {
     "data": {
      "text/html": [
       "<div>\n",
       "<style scoped>\n",
       "    .dataframe tbody tr th:only-of-type {\n",
       "        vertical-align: middle;\n",
       "    }\n",
       "\n",
       "    .dataframe tbody tr th {\n",
       "        vertical-align: top;\n",
       "    }\n",
       "\n",
       "    .dataframe thead th {\n",
       "        text-align: right;\n",
       "    }\n",
       "</style>\n",
       "<table border=\"1\" class=\"dataframe\">\n",
       "  <thead>\n",
       "    <tr style=\"text-align: right;\">\n",
       "      <th></th>\n",
       "      <th>Cast2</th>\n",
       "    </tr>\n",
       "  </thead>\n",
       "  <tbody>\n",
       "    <tr>\n",
       "      <th>Tim Allen</th>\n",
       "      <td>2</td>\n",
       "    </tr>\n",
       "    <tr>\n",
       "      <th>Brad Pitt</th>\n",
       "      <td>2</td>\n",
       "    </tr>\n",
       "    <tr>\n",
       "      <th>Ian McKellen</th>\n",
       "      <td>2</td>\n",
       "    </tr>\n",
       "    <tr>\n",
       "      <th>John Cleese</th>\n",
       "      <td>2</td>\n",
       "    </tr>\n",
       "    <tr>\n",
       "      <th>Liv Ullmann</th>\n",
       "      <td>2</td>\n",
       "    </tr>\n",
       "    <tr>\n",
       "      <th>Paulette Goddard</th>\n",
       "      <td>2</td>\n",
       "    </tr>\n",
       "    <tr>\n",
       "      <th>Ed Harris</th>\n",
       "      <td>2</td>\n",
       "    </tr>\n",
       "    <tr>\n",
       "      <th>Harrison Ford</th>\n",
       "      <td>3</td>\n",
       "    </tr>\n",
       "    <tr>\n",
       "      <th>Matt Damon</th>\n",
       "      <td>3</td>\n",
       "    </tr>\n",
       "    <tr>\n",
       "      <th>Robert De Niro</th>\n",
       "      <td>3</td>\n",
       "    </tr>\n",
       "  </tbody>\n",
       "</table>\n",
       "</div>"
      ],
      "text/plain": [
       "                    Cast2\n",
       "  Tim Allen             2\n",
       "  Brad Pitt             2\n",
       "  Ian McKellen          2\n",
       "  John Cleese           2\n",
       "  Liv Ullmann           2\n",
       "  Paulette Goddard      2\n",
       "  Ed Harris             2\n",
       "  Harrison Ford         3\n",
       "  Matt Damon            3\n",
       "  Robert De Niro        3"
      ]
     },
     "execution_count": 104,
     "metadata": {},
     "output_type": "execute_result"
    },
    {
     "data": {
      "image/png": "[encoded data removed]",
      "text/plain": [
       "<Figure size 432x288 with 1 Axes>"
      ]
     },
     "metadata": {
      "needs_background": "light"
     },
     "output_type": "display_data"
    }
   ],
   "source": [
    "#erste liste für die schau\n",
    "cast2=df[\"Cast2\"].value_counts()\n",
    "castt2=cast2.to_frame()\n",
    "castt2=castt2.sort_values(by=[\"Cast2\"])\n",
    "spielerr=castt2.tail(10)\n",
    "spielerr.plot.bar()\n",
    "spielerr\n"
   ]
  },
  {
   "cell_type": "code",
   "execution_count": 106,
   "id": "cb2686a8",
   "metadata": {},
   "outputs": [
    {
     "data": {
      "text/html": [
       "<div>\n",
       "<style scoped>\n",
       "    .dataframe tbody tr th:only-of-type {\n",
       "        vertical-align: middle;\n",
       "    }\n",
       "\n",
       "    .dataframe tbody tr th {\n",
       "        vertical-align: top;\n",
       "    }\n",
       "\n",
       "    .dataframe thead th {\n",
       "        text-align: right;\n",
       "    }\n",
       "</style>\n",
       "<table border=\"1\" class=\"dataframe\">\n",
       "  <thead>\n",
       "    <tr style=\"text-align: right;\">\n",
       "      <th></th>\n",
       "      <th>Cast3</th>\n",
       "    </tr>\n",
       "  </thead>\n",
       "  <tbody>\n",
       "    <tr>\n",
       "      <th>Catherine Keener</th>\n",
       "      <td>1</td>\n",
       "    </tr>\n",
       "    <tr>\n",
       "      <th>Walter Connolly</th>\n",
       "      <td>1</td>\n",
       "    </tr>\n",
       "    <tr>\n",
       "      <th>Robert Duvall</th>\n",
       "      <td>2</td>\n",
       "    </tr>\n",
       "    <tr>\n",
       "      <th>Jennifer Connelly</th>\n",
       "      <td>2</td>\n",
       "    </tr>\n",
       "    <tr>\n",
       "      <th>Morgan Freeman</th>\n",
       "      <td>2</td>\n",
       "    </tr>\n",
       "    <tr>\n",
       "      <th>Tatsuya Nakadai</th>\n",
       "      <td>2</td>\n",
       "    </tr>\n",
       "    <tr>\n",
       "      <th>George Sanders</th>\n",
       "      <td>2</td>\n",
       "    </tr>\n",
       "    <tr>\n",
       "      <th>Mark Ruffalo</th>\n",
       "      <td>3</td>\n",
       "    </tr>\n",
       "    <tr>\n",
       "      <th>Carrie Fisher</th>\n",
       "      <td>3</td>\n",
       "    </tr>\n",
       "    <tr>\n",
       "      <th>Joe Pesci</th>\n",
       "      <td>3</td>\n",
       "    </tr>\n",
       "  </tbody>\n",
       "</table>\n",
       "</div>"
      ],
      "text/plain": [
       "                     Cast3\n",
       "  Catherine Keener       1\n",
       "  Walter Connolly        1\n",
       "  Robert Duvall          2\n",
       "  Jennifer Connelly      2\n",
       "  Morgan Freeman         2\n",
       "  Tatsuya Nakadai        2\n",
       "  George Sanders         2\n",
       "  Mark Ruffalo           3\n",
       "  Carrie Fisher          3\n",
       "  Joe Pesci              3"
      ]
     },
     "execution_count": 106,
     "metadata": {},
     "output_type": "execute_result"
    },
    {
     "data": {
      "image/png": "[encoded data removed]",
      "text/plain": [
       "<Figure size 432x288 with 1 Axes>"
      ]
     },
     "metadata": {
      "needs_background": "light"
     },
     "output_type": "display_data"
    }
   ],
   "source": [
    "cast3=df[\"Cast3\"].value_counts()\n",
    "castt3=cast3.to_frame()\n",
    "castt3=castt3.sort_values(by=[\"Cast3\"])\n",
    "spieler3=castt3.tail(10)\n",
    "spieler3.plot.bar()\n",
    "spieler3\n"
   ]
  },
  {
   "cell_type": "code",
   "execution_count": 123,
   "id": "f95be28d",
   "metadata": {},
   "outputs": [
    {
     "data": {
      "text/html": [
       "<div>\n",
       "<style scoped>\n",
       "    .dataframe tbody tr th:only-of-type {\n",
       "        vertical-align: middle;\n",
       "    }\n",
       "\n",
       "    .dataframe tbody tr th {\n",
       "        vertical-align: top;\n",
       "    }\n",
       "\n",
       "    .dataframe thead th {\n",
       "        text-align: right;\n",
       "    }\n",
       "</style>\n",
       "<table border=\"1\" class=\"dataframe\">\n",
       "  <thead>\n",
       "    <tr style=\"text-align: right;\">\n",
       "      <th></th>\n",
       "      <th>Cast4</th>\n",
       "    </tr>\n",
       "  </thead>\n",
       "  <tbody>\n",
       "    <tr>\n",
       "      <th>Gunnar Björnstrand</th>\n",
       "      <td>2</td>\n",
       "    </tr>\n",
       "    <tr>\n",
       "      <th>Billy Dee Williams</th>\n",
       "      <td>2</td>\n",
       "    </tr>\n",
       "    <tr>\n",
       "      <th>Paul Reiser</th>\n",
       "      <td>2</td>\n",
       "    </tr>\n",
       "    <tr>\n",
       "      <th>Terry Gilliam</th>\n",
       "      <td>2</td>\n",
       "    </tr>\n",
       "    <tr>\n",
       "      <th>Christopher Plummer</th>\n",
       "      <td>2</td>\n",
       "    </tr>\n",
       "    <tr>\n",
       "      <th>Orlando Bloom</th>\n",
       "      <td>2</td>\n",
       "    </tr>\n",
       "    <tr>\n",
       "      <th>Diane Keaton</th>\n",
       "      <td>2</td>\n",
       "    </tr>\n",
       "    <tr>\n",
       "      <th>Olivia Williams</th>\n",
       "      <td>2</td>\n",
       "    </tr>\n",
       "    <tr>\n",
       "      <th>Michael Caine</th>\n",
       "      <td>2</td>\n",
       "    </tr>\n",
       "    <tr>\n",
       "      <th>Steve Buscemi</th>\n",
       "      <td>2</td>\n",
       "    </tr>\n",
       "  </tbody>\n",
       "</table>\n",
       "</div>"
      ],
      "text/plain": [
       "                       Cast4\n",
       "  Gunnar Björnstrand       2\n",
       "  Billy Dee Williams       2\n",
       "  Paul Reiser              2\n",
       "  Terry Gilliam            2\n",
       "  Christopher Plummer      2\n",
       "  Orlando Bloom            2\n",
       "  Diane Keaton             2\n",
       "  Olivia Williams          2\n",
       "  Michael Caine            2\n",
       "  Steve Buscemi            2"
      ]
     },
     "execution_count": 123,
     "metadata": {},
     "output_type": "execute_result"
    },
    {
     "data": {
      "image/png": "[encoded data removed]",
      "text/plain": [
       "<Figure size 432x288 with 1 Axes>"
      ]
     },
     "metadata": {
      "needs_background": "light"
     },
     "output_type": "display_data"
    }
   ],
   "source": [
    "cast4=df[\"Cast4\"].value_counts()\n",
    "castt4=cast4.to_frame()\n",
    "castt4=castt4.sort_values(by=[\"Cast4\"])\n",
    "spieler4=castt4.tail(10)\n",
    "spieler4.plot.bar()\n",
    "spieler4\n"
   ]
  },
  {
   "cell_type": "code",
   "execution_count": null,
   "id": "8a41be6f",
   "metadata": {},
   "outputs": [],
   "source": []
  },
  {
   "cell_type": "code",
   "execution_count": null,
   "id": "131c8a38",
   "metadata": {},
   "outputs": [],
   "source": []
  },
  {
   "cell_type": "code",
   "execution_count": null,
   "id": "b5b864aa",
   "metadata": {},
   "outputs": [],
   "source": []
  },
  {
   "cell_type": "code",
   "execution_count": null,
   "id": "7f24767b",
   "metadata": {},
   "outputs": [],
   "source": [
    "\n"
   ]
  },
  {
   "cell_type": "code",
   "execution_count": null,
   "id": "839a2da3",
   "metadata": {},
   "outputs": [],
   "source": []
  },
  {
   "cell_type": "code",
   "execution_count": null,
   "id": "1de2f760",
   "metadata": {},
   "outputs": [],
   "source": []
  },
  {
   "cell_type": "code",
   "execution_count": null,
   "id": "2887cc7b",
   "metadata": {},
   "outputs": [],
   "source": []
  }
 ],
 "metadata": {
  "kernelspec": {
   "display_name": "Python 3 (ipykernel)",
   "language": "python",
   "name": "python3"
  },
  "language_info": {
   "codemirror_mode": {
    "name": "ipython",
    "version": 3
   },
   "file_extension": ".py",
   "mimetype": "text/x-python",
   "name": "python",
   "nbconvert_exporter": "python",
   "pygments_lexer": "ipython3",
   "version": "3.9.12"
  }
 },
 "nbformat": 4,
 "nbformat_minor": 5
}
