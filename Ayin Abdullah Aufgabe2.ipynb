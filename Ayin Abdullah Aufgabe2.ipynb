{
 "cells": [
  {
   "cell_type": "code",
   "execution_count": 8,
   "id": "503ffd20",
   "metadata": {},
   "outputs": [
    {
     "data": {
      "text/html": [
       "<div>\n",
       "<style scoped>\n",
       "    .dataframe tbody tr th:only-of-type {\n",
       "        vertical-align: middle;\n",
       "    }\n",
       "\n",
       "    .dataframe tbody tr th {\n",
       "        vertical-align: top;\n",
       "    }\n",
       "\n",
       "    .dataframe thead th {\n",
       "        text-align: right;\n",
       "    }\n",
       "</style>\n",
       "<table border=\"1\" class=\"dataframe\">\n",
       "  <thead>\n",
       "    <tr style=\"text-align: right;\">\n",
       "      <th></th>\n",
       "      <th>Kostenfaktor</th>\n",
       "    </tr>\n",
       "    <tr>\n",
       "      <th>Bundesland</th>\n",
       "      <th></th>\n",
       "    </tr>\n",
       "  </thead>\n",
       "  <tbody>\n",
       "    <tr>\n",
       "      <th>Baden-Württemberg</th>\n",
       "      <td>1.5</td>\n",
       "    </tr>\n",
       "    <tr>\n",
       "      <th>Bayern</th>\n",
       "      <td>1.7</td>\n",
       "    </tr>\n",
       "    <tr>\n",
       "      <th>Berlin</th>\n",
       "      <td>2.1</td>\n",
       "    </tr>\n",
       "    <tr>\n",
       "      <th>Brandenburg</th>\n",
       "      <td>1.1</td>\n",
       "    </tr>\n",
       "    <tr>\n",
       "      <th>Bremen</th>\n",
       "      <td>1.2</td>\n",
       "    </tr>\n",
       "    <tr>\n",
       "      <th>Hamburg</th>\n",
       "      <td>2.5</td>\n",
       "    </tr>\n",
       "    <tr>\n",
       "      <th>Hessen</th>\n",
       "      <td>1.3</td>\n",
       "    </tr>\n",
       "    <tr>\n",
       "      <th>Mecklenburg-Vorpommern</th>\n",
       "      <td>0.9</td>\n",
       "    </tr>\n",
       "    <tr>\n",
       "      <th>Niedersachsen</th>\n",
       "      <td>1.0</td>\n",
       "    </tr>\n",
       "    <tr>\n",
       "      <th>Nordrhein-Westfalen</th>\n",
       "      <td>1.1</td>\n",
       "    </tr>\n",
       "    <tr>\n",
       "      <th>Rheinland-Pfalz</th>\n",
       "      <td>1.0</td>\n",
       "    </tr>\n",
       "    <tr>\n",
       "      <th>Saarland</th>\n",
       "      <td>0.7</td>\n",
       "    </tr>\n",
       "    <tr>\n",
       "      <th>Sachsen</th>\n",
       "      <td>0.7</td>\n",
       "    </tr>\n",
       "    <tr>\n",
       "      <th>Sachsen-Anhalt</th>\n",
       "      <td>0.6</td>\n",
       "    </tr>\n",
       "    <tr>\n",
       "      <th>Schleswig-Holstein</th>\n",
       "      <td>1.4</td>\n",
       "    </tr>\n",
       "    <tr>\n",
       "      <th>Thüringen</th>\n",
       "      <td>0.6</td>\n",
       "    </tr>\n",
       "  </tbody>\n",
       "</table>\n",
       "</div>"
      ],
      "text/plain": [
       "                        Kostenfaktor\n",
       "Bundesland                          \n",
       "Baden-Württemberg                1.5\n",
       "Bayern                           1.7\n",
       "Berlin                           2.1\n",
       "Brandenburg                      1.1\n",
       "Bremen                           1.2\n",
       "Hamburg                          2.5\n",
       "Hessen                           1.3\n",
       "Mecklenburg-Vorpommern           0.9\n",
       "Niedersachsen                    1.0\n",
       "Nordrhein-Westfalen              1.1\n",
       "Rheinland-Pfalz                  1.0\n",
       "Saarland                         0.7\n",
       "Sachsen                          0.7\n",
       "Sachsen-Anhalt                   0.6\n",
       "Schleswig-Holstein               1.4\n",
       "Thüringen                        0.6"
      ]
     },
     "execution_count": 8,
     "metadata": {},
     "output_type": "execute_result"
    }
   ],
   "source": [
    "import pandas as pd \n",
    "import numpy as np\n",
    "Bundesland=pd.read_excel(\"Aufgabe 2 - Preisinformation.xlsx\",sheet_name=\"Tabelle1\", usecols=(\"B:C\"), skiprows=2)\n",
    "\n",
    "Bundesland.set_index(\"Bundesland\",inplace=True)\n",
    "Bundesland\n"
   ]
  },
  {
   "cell_type": "code",
   "execution_count": 7,
   "id": "17681e73",
   "metadata": {},
   "outputs": [
    {
     "name": "stdout",
     "output_type": "stream",
     "text": [
      "Collecting openpyxl\n",
      "  Using cached openpyxl-3.0.10-py2.py3-none-any.whl (242 kB)\n",
      "Collecting et-xmlfile\n",
      "  Using cached et_xmlfile-1.1.0-py3-none-any.whl (4.7 kB)\n",
      "Installing collected packages: et-xmlfile, openpyxl\n",
      "Successfully installed et-xmlfile-1.1.0 openpyxl-3.0.10\n"
     ]
    },
    {
     "name": "stderr",
     "output_type": "stream",
     "text": [
      "\n",
      "[notice] A new release of pip available: 22.2.2 -> 22.3\n",
      "[notice] To update, run: python.exe -m pip install --upgrade pip\n"
     ]
    }
   ],
   "source": [
    "!pip install openpyxl"
   ]
  },
  {
   "cell_type": "code",
   "execution_count": 9,
   "id": "47945c60",
   "metadata": {},
   "outputs": [
    {
     "data": {
      "text/plain": [
       "<AxesSubplot: xlabel='Bundesland'>"
      ]
     },
     "execution_count": 9,
     "metadata": {},
     "output_type": "execute_result"
    },
    {
     "data": {
      "image/png": "[encoded data removed]",
      "text/plain": [
       "<Figure size 640x480 with 1 Axes>"
      ]
     },
     "metadata": {},
     "output_type": "display_data"
    }
   ],
   "source": [
    "Bundesland.plot.bar()"
   ]
  },
  {
   "cell_type": "code",
   "execution_count": 10,
   "id": "57dace39",
   "metadata": {},
   "outputs": [
    {
     "data": {
      "text/html": [
       "<div>\n",
       "<style scoped>\n",
       "    .dataframe tbody tr th:only-of-type {\n",
       "        vertical-align: middle;\n",
       "    }\n",
       "\n",
       "    .dataframe tbody tr th {\n",
       "        vertical-align: top;\n",
       "    }\n",
       "\n",
       "    .dataframe thead th {\n",
       "        text-align: right;\n",
       "    }\n",
       "</style>\n",
       "<table border=\"1\" class=\"dataframe\">\n",
       "  <thead>\n",
       "    <tr style=\"text-align: right;\">\n",
       "      <th></th>\n",
       "      <th>Kostenfaktor.1</th>\n",
       "    </tr>\n",
       "    <tr>\n",
       "      <th>Stadt vs Land</th>\n",
       "      <th></th>\n",
       "    </tr>\n",
       "  </thead>\n",
       "  <tbody>\n",
       "    <tr>\n",
       "      <th>Land</th>\n",
       "      <td>1</td>\n",
       "    </tr>\n",
       "    <tr>\n",
       "      <th>Stadt</th>\n",
       "      <td>2</td>\n",
       "    </tr>\n",
       "    <tr>\n",
       "      <th>Rohbau</th>\n",
       "      <td>0.5</td>\n",
       "    </tr>\n",
       "    <tr>\n",
       "      <th>Sanierungsbedarf</th>\n",
       "      <td>0.8</td>\n",
       "    </tr>\n",
       "    <tr>\n",
       "      <th>Renovierungsbedarf</th>\n",
       "      <td>0.9</td>\n",
       "    </tr>\n",
       "    <tr>\n",
       "      <th>Einfach</th>\n",
       "      <td>1</td>\n",
       "    </tr>\n",
       "    <tr>\n",
       "      <th>Gehoben</th>\n",
       "      <td>2</td>\n",
       "    </tr>\n",
       "    <tr>\n",
       "      <th>Einfamilienhaus</th>\n",
       "      <td>1</td>\n",
       "    </tr>\n",
       "    <tr>\n",
       "      <th>Doppelhaushälfte</th>\n",
       "      <td>0.8</td>\n",
       "    </tr>\n",
       "    <tr>\n",
       "      <th>Mehrfamilienhaus</th>\n",
       "      <td>0.7</td>\n",
       "    </tr>\n",
       "  </tbody>\n",
       "</table>\n",
       "</div>"
      ],
      "text/plain": [
       "                   Kostenfaktor.1\n",
       "Stadt vs Land                    \n",
       "Land                            1\n",
       "Stadt                           2\n",
       "Rohbau                        0.5\n",
       "Sanierungsbedarf              0.8\n",
       "Renovierungsbedarf            0.9\n",
       "Einfach                         1\n",
       "Gehoben                         2\n",
       "Einfamilienhaus                 1\n",
       "Doppelhaushälfte              0.8\n",
       "Mehrfamilienhaus              0.7"
      ]
     },
     "execution_count": 10,
     "metadata": {},
     "output_type": "execute_result"
    }
   ],
   "source": [
    "tabel2=pd.read_excel(\"Aufgabe 2 - Preisinformation.xlsx\",sheet_name=\"Tabelle1\", usecols=(\"E:F\"), skiprows=2)\n",
    "tabel2.set_index(\"Stadt vs Land\",inplace=True)\n",
    "tabel2.drop([\"Ausstattung\",\"Hausart\"],inplace=True)\n",
    "tabel2=tabel2.dropna()\n",
    "tabel2\n"
   ]
  },
  {
   "cell_type": "code",
   "execution_count": 12,
   "id": "cbcbc837",
   "metadata": {},
   "outputs": [
    {
     "data": {
      "text/html": [
       "<div>\n",
       "<style scoped>\n",
       "    .dataframe tbody tr th:only-of-type {\n",
       "        vertical-align: middle;\n",
       "    }\n",
       "\n",
       "    .dataframe tbody tr th {\n",
       "        vertical-align: top;\n",
       "    }\n",
       "\n",
       "    .dataframe thead th {\n",
       "        text-align: right;\n",
       "    }\n",
       "</style>\n",
       "<table border=\"1\" class=\"dataframe\">\n",
       "  <thead>\n",
       "    <tr style=\"text-align: right;\">\n",
       "      <th></th>\n",
       "      <th>Weitere Kostenfaktoren</th>\n",
       "      <th>Preis</th>\n",
       "      <th>Einheit</th>\n",
       "    </tr>\n",
       "  </thead>\n",
       "  <tbody>\n",
       "    <tr>\n",
       "      <th>0</th>\n",
       "      <td>QM-Grundstück</td>\n",
       "      <td>160.0</td>\n",
       "      <td>pro m²</td>\n",
       "    </tr>\n",
       "    <tr>\n",
       "      <th>1</th>\n",
       "      <td>QM-Wohnfläche</td>\n",
       "      <td>2500.0</td>\n",
       "      <td>pro m²</td>\n",
       "    </tr>\n",
       "    <tr>\n",
       "      <th>2</th>\n",
       "      <td>Geplant von Architekt</td>\n",
       "      <td>20.0</td>\n",
       "      <td>Aufschlag in %</td>\n",
       "    </tr>\n",
       "    <tr>\n",
       "      <th>3</th>\n",
       "      <td>Makler</td>\n",
       "      <td>20.0</td>\n",
       "      <td>Aufschlag in %</td>\n",
       "    </tr>\n",
       "    <tr>\n",
       "      <th>4</th>\n",
       "      <td>Denkmalschutz</td>\n",
       "      <td>25.0</td>\n",
       "      <td>Reduzierung in %</td>\n",
       "    </tr>\n",
       "    <tr>\n",
       "      <th>5</th>\n",
       "      <td>Baujahr</td>\n",
       "      <td>0.1</td>\n",
       "      <td>Reduzierung in % pro Jahr</td>\n",
       "    </tr>\n",
       "  </tbody>\n",
       "</table>\n",
       "</div>"
      ],
      "text/plain": [
       "  Weitere Kostenfaktoren   Preis                    Einheit\n",
       "0          QM-Grundstück   160.0                     pro m²\n",
       "1          QM-Wohnfläche  2500.0                     pro m²\n",
       "2  Geplant von Architekt    20.0             Aufschlag in %\n",
       "3                 Makler    20.0             Aufschlag in %\n",
       "4          Denkmalschutz    25.0           Reduzierung in %\n",
       "5                Baujahr     0.1  Reduzierung in % pro Jahr"
      ]
     },
     "execution_count": 12,
     "metadata": {},
     "output_type": "execute_result"
    }
   ],
   "source": [
    "tabel3=pd.read_excel(\"Aufgabe 2 - Preisinformation.xlsx\",sheet_name=\"Tabelle1\", usecols=(\"H:J\"), skiprows=2)\n",
    "tabel3=tabel3.dropna()\n",
    "tabel3=pd.DataFrame(tabel3)\n",
    "tabel3"
   ]
  },
  {
   "cell_type": "markdown",
   "id": "612c3d55",
   "metadata": {},
   "source": [
    "## Wie viel m² Grundstück? "
   ]
  },
  {
   "cell_type": "code",
   "execution_count": 13,
   "id": "d7090480",
   "metadata": {},
   "outputs": [
    {
     "data": {
      "text/html": [
       "<div>\n",
       "<style scoped>\n",
       "    .dataframe tbody tr th:only-of-type {\n",
       "        vertical-align: middle;\n",
       "    }\n",
       "\n",
       "    .dataframe tbody tr th {\n",
       "        vertical-align: top;\n",
       "    }\n",
       "\n",
       "    .dataframe thead th {\n",
       "        text-align: right;\n",
       "    }\n",
       "</style>\n",
       "<table border=\"1\" class=\"dataframe\">\n",
       "  <thead>\n",
       "    <tr style=\"text-align: right;\">\n",
       "      <th></th>\n",
       "      <th>Weitere Kostenfaktoren</th>\n",
       "      <th>Preis</th>\n",
       "      <th>Einheit</th>\n",
       "    </tr>\n",
       "  </thead>\n",
       "  <tbody>\n",
       "    <tr>\n",
       "      <th>0</th>\n",
       "      <td>QM-Grundstück</td>\n",
       "      <td>160.0</td>\n",
       "      <td>pro m²</td>\n",
       "    </tr>\n",
       "  </tbody>\n",
       "</table>\n",
       "</div>"
      ],
      "text/plain": [
       "  Weitere Kostenfaktoren  Preis Einheit\n",
       "0          QM-Grundstück  160.0  pro m²"
      ]
     },
     "execution_count": 13,
     "metadata": {},
     "output_type": "execute_result"
    }
   ],
   "source": [
    "tabel3.loc[(tabel3[\"Weitere Kostenfaktoren\"]==\"QM-Grundstück\")]"
   ]
  },
  {
   "cell_type": "markdown",
   "id": "584c3fc2",
   "metadata": {},
   "source": [
    "## Wie viel m² Wohnfläche?"
   ]
  },
  {
   "cell_type": "code",
   "execution_count": 14,
   "id": "726a6acc",
   "metadata": {},
   "outputs": [
    {
     "data": {
      "text/html": [
       "<div>\n",
       "<style scoped>\n",
       "    .dataframe tbody tr th:only-of-type {\n",
       "        vertical-align: middle;\n",
       "    }\n",
       "\n",
       "    .dataframe tbody tr th {\n",
       "        vertical-align: top;\n",
       "    }\n",
       "\n",
       "    .dataframe thead th {\n",
       "        text-align: right;\n",
       "    }\n",
       "</style>\n",
       "<table border=\"1\" class=\"dataframe\">\n",
       "  <thead>\n",
       "    <tr style=\"text-align: right;\">\n",
       "      <th></th>\n",
       "      <th>Weitere Kostenfaktoren</th>\n",
       "      <th>Preis</th>\n",
       "      <th>Einheit</th>\n",
       "    </tr>\n",
       "  </thead>\n",
       "  <tbody>\n",
       "    <tr>\n",
       "      <th>1</th>\n",
       "      <td>QM-Wohnfläche</td>\n",
       "      <td>2500.0</td>\n",
       "      <td>pro m²</td>\n",
       "    </tr>\n",
       "  </tbody>\n",
       "</table>\n",
       "</div>"
      ],
      "text/plain": [
       "  Weitere Kostenfaktoren   Preis Einheit\n",
       "1          QM-Wohnfläche  2500.0  pro m²"
      ]
     },
     "execution_count": 14,
     "metadata": {},
     "output_type": "execute_result"
    }
   ],
   "source": [
    "tabel3.loc[(tabel3[\"Weitere Kostenfaktoren\"]==\"QM-Wohnfläche\")]"
   ]
  },
  {
   "cell_type": "markdown",
   "id": "7c0b6eef",
   "metadata": {},
   "source": [
    "## Handelt es sich um ein Architektenhaus? "
   ]
  },
  {
   "cell_type": "code",
   "execution_count": 15,
   "id": "3cd2e3de",
   "metadata": {},
   "outputs": [
    {
     "data": {
      "text/html": [
       "<div>\n",
       "<style scoped>\n",
       "    .dataframe tbody tr th:only-of-type {\n",
       "        vertical-align: middle;\n",
       "    }\n",
       "\n",
       "    .dataframe tbody tr th {\n",
       "        vertical-align: top;\n",
       "    }\n",
       "\n",
       "    .dataframe thead th {\n",
       "        text-align: right;\n",
       "    }\n",
       "</style>\n",
       "<table border=\"1\" class=\"dataframe\">\n",
       "  <thead>\n",
       "    <tr style=\"text-align: right;\">\n",
       "      <th></th>\n",
       "      <th>Weitere Kostenfaktoren</th>\n",
       "      <th>Preis</th>\n",
       "      <th>Einheit</th>\n",
       "    </tr>\n",
       "  </thead>\n",
       "  <tbody>\n",
       "    <tr>\n",
       "      <th>2</th>\n",
       "      <td>Geplant von Architekt</td>\n",
       "      <td>20.0</td>\n",
       "      <td>Aufschlag in %</td>\n",
       "    </tr>\n",
       "  </tbody>\n",
       "</table>\n",
       "</div>"
      ],
      "text/plain": [
       "  Weitere Kostenfaktoren  Preis         Einheit\n",
       "2  Geplant von Architekt   20.0  Aufschlag in %"
      ]
     },
     "execution_count": 15,
     "metadata": {},
     "output_type": "execute_result"
    }
   ],
   "source": [
    "tabel3.loc[(tabel3[\"Weitere Kostenfaktoren\"]==\"Geplant von Architekt\")]"
   ]
  },
  {
   "cell_type": "code",
   "execution_count": 8,
   "id": "dbd74091",
   "metadata": {},
   "outputs": [
    {
     "data": {
      "text/plain": [
       "<AxesSubplot:xlabel='Weitere Kostenfaktoren'>"
      ]
     },
     "execution_count": 8,
     "metadata": {},
     "output_type": "execute_result"
    },
    {
     "data": {
      "image/png": "[encoded data removed]",
      "text/plain": [
       "<Figure size 432x288 with 1 Axes>"
      ]
     },
     "metadata": {
      "needs_background": "light"
     },
     "output_type": "display_data"
    }
   ],
   "source": [
    "tabplot=tabel3[[\"Weitere Kostenfaktoren\",\"Preis\"]]\n",
    "tabplot.plot.bar(x=\"Weitere Kostenfaktoren\", y=\"Preis\")"
   ]
  },
  {
   "cell_type": "code",
   "execution_count": null,
   "id": "c401e5ac",
   "metadata": {},
   "outputs": [],
   "source": []
  },
  {
   "cell_type": "code",
   "execution_count": 16,
   "id": "a15ea23a",
   "metadata": {},
   "outputs": [],
   "source": [
    "from tkinter import *\n",
    "import tkinter as tk\n",
    "window = tk.Tk()\n",
    "from tkinter.ttk import Combobox\n",
    "\n",
    "window.geometry(\"600x600\")\n",
    "Label(window,text=\"Immobilienpreise für Kunden eingeschätzt werden sollen\",\n",
    "        font=('Helvetica',15,'bold'),bg=\"light green\",\n",
    "        relief=\"solid\").pack()\n",
    "\n",
    "\n",
    "Bundesland={\"Baden-Württemberg\": 1.5, \"Bayern\": 1.7, \"Berlin\": 2.1, \"Brandenburg\": 1.1,  \"Bremen\": 1.2, \"Hamburg\": 2.5, \\\n",
    "            \"Hessen\": 1.3, \"Mecklenburg-Vorpommern\": 0.9, \"Niedersachsen\": 1, \"Nordrhein-Westfalen\": 1.1, \"Rheinland-Pfalz\": 1,\\\n",
    "              \"Saarland\": 0.7, \"Sachsen\": 0.7, \"Sachsen-Anhalt\": 0.6, \"Schleswig-Holstein\": 1.4,\"Thüringen\": 0.6}\n",
    "\n",
    "\n",
    "grundstück_label=tk.Label(window, text=\"Wie viel m² Grundstück?\")\n",
    "grundstück_label.place(x=20,y=40)\n",
    "grund=tk.Entry(window,width=25)\n",
    "grund.place(x=400,y=40)\n",
    "\n",
    "\n",
    "Wohnfläche=tk.Label(window, text=\"Wie viel m² Wohnfläche?\")\n",
    "Wohnfläche.place(x=20,y=70)\n",
    "wohn=tk.Entry(window,width=25)\n",
    "wohn.place(x=400,y=70)\n",
    "\n",
    "\n",
    "architekt_label=tk.Label(window, text=\"Handelt es sich um ein Architektenhaus?\")\n",
    "architekt_label.place(x=20,y=100)\n",
    "arch=Combobox(window,value=[\"ja\",\"nein\"],width=22)\n",
    "arch.place(x=400,y=100)\n",
    "\n",
    "\n",
    "mackler_label=tk.Label(window, text=\"Soll ein Makler das Haus verkaufen?\")\n",
    "mackler_label.place(x=20,y=130)\n",
    "mack=Combobox(window,value=[\"ja\",\"nein\"],width=22)\n",
    "mack.place(x=400,y=130)\n",
    "\n",
    "\n",
    "hausteil_label=tk.Label(window, text=\"Steht das Haus oder Teile davon unter Denkmalschutz? \")\n",
    "hausteil_label.place(x=20,y=160)\n",
    "haust=Combobox(window,value=[\"ja\",\"nein\"],width=22)\n",
    "haust.place(x=400,y=160)\n",
    "\n",
    "\n",
    "baujahr_label=tk.Label(window, text=\"Welches Baujahr hat das Haus? \")\n",
    "baujahr_label.place(x=20,y=190)\n",
    "bauj=tk.Entry(window,width=25)\n",
    "bauj.place(x=400,y=190)\n",
    "\n",
    "staland_label=tk.Label(window, text=\"Ist das Haus in der Stadt oder auf dem Land?  \")\n",
    "staland_label.place(x=20,y=220)\n",
    "stadl=Combobox(window,value=[\"Stadt\",\"Land\"],width=22)\n",
    "stadl.place(x=400,y=220)\n",
    "\n",
    "\n",
    "austat_label=tk.Label(window, text=\"Wie ist die Ausstattung? \")\n",
    "austat_label.place(x=20,y=250)\n",
    "ausst=Combobox(window, value= [\"Rohbau\", \"Sanierungsbedarf\", \"Renovierungsbedarf\", \"Einfach\", \"Gehoben\"], width=22)\n",
    "ausst.place(x=400,y=250)\n",
    "\n",
    "hausart_label=tk.Label(window, text=\"Wie ist die Hausart? \")\n",
    "hausart_label.place(x=20,y=280)\n",
    "hausar=Combobox(window,value=[\"Einfamilienhaus\", \"Doppelhaushälfte\", \"Mehrfamilienhaus\"],width=22)\n",
    "hausar.place(x=400,y=280)\n",
    "\n",
    "\n",
    "bundesland_label=tk.Label(window, text=\"In welchem Bundesland steht das Haus? \")\n",
    "bundesland_label.place(x=20,y=310)\n",
    "bund=Combobox(window,value=[\"Baden-Württemberg\",\"Bayern\",\"Berlin\",\\\n",
    "                                \"Brandenburg\", \"Bremen\", \"Hamburg\", \"Hessen\",\\\n",
    "                                \"Mecklenburg-Vorpommern\", \"Niedersachsen\",\\\n",
    "                                \"Nordrhein-Westfalen\", \"Rheinland-Pfalz\",\\\n",
    "                                \"Saarland\", \"Sachsen\", \"Sachsen-Anhalt\", \\\n",
    "                                \"Schleswig-Holstein\", \"Thüringen\"], width=22)\n",
    "bund.place(x=400,y=320)\n",
    "\n",
    "\n",
    "def preis():\n",
    "    grundstuck=int(txtfld.get())*160\n",
    "    wohnflächer=int(txtfld1.get())*2500\n",
    "    baujahr=((date.today().year - int(txtfld5.get())) * 0.001)\n",
    "    preis = grundstuck +wohnflächer - (baujahr * (grundstuck + wohnflächer))\n",
    "    arthaus = (0.2*  preis) if txtfld2.get() == \"ja\" else 0\n",
    "    makler = (0.2 * preis)  if txtfld3.get() == \"ja\" else 0\n",
    "    denkmal = (0.25 * preis) if txtfld4.get() == \"ja\" else 0\n",
    "    stadt_land = 1 if (txtfld6.get()) == \"Stadt\" else (2 * preis)\n",
    "    ausstattung = (0.5*preis) if (txtfld7.get()) == \"Rohbau\" else (0.8*preis)\\\n",
    "                  if (txtfld7.get()) == \"Sanierungsbedarf\" else (0.9*preis)\\\n",
    "                  if (txtfld7.get()) == \"Renovierungsbedarf\" else 1 \\\n",
    "                  if (txtfld7.get()) == \"Einfach\" else (2*preis)\\\n",
    "                  if (txtfld7.get()) == \"Gehoben\" else 0\n",
    "    hausart = 1 if (txtfld8.get()) == \"Einfamilienhaus\" else (0.8*preis)\\\n",
    "              if (txtfld8.get()) == \"Doppelhaushälfte\" else (0.7*preis)\\\n",
    "              if (txtfld8.get()) == \"Mehrfamilienhaus\" else 0\n",
    "    bundesland = (Bundesland.get(txtfld9.get())*preis) if (txtfld9.get()) != 0 else 0\n",
    "    ausgabe = preis + arthaus + makler - denkmal + stadt_land + ausstattung + hausart + bundesland\n",
    "    message = f'Ihre Immobilie ist {ausgabe} Euro kostet.'\n",
    "    label_ausgabe.configure(text=message)\n",
    "    return message\n",
    "\n",
    "def erroop():\n",
    "    try:\n",
    "        neu= tk.Toplevel(window)\n",
    "        neu.geometry(\"750x200\")\n",
    "        neu.title(\"Immobilien preis\")\n",
    "        tk.Label(neu, text= preis(), font= ('Helvetica 17 bold')).pack(pady=30)\n",
    "        label_ausgabe = tk.Label(window,  width= 30)\n",
    "        label_ausgabe.place(x=20 , y= 400)\n",
    "    except:\n",
    "        tk.Label(neu, text= \"Bitte ihre wünsche angeben\", font= ('Helvetica 17 bold')).pack(pady=30)\n",
    "        \n",
    "but = tk.Button(window,text=\"bestetigen\",command = erroop)        \n",
    "but.place(x=400,y=350)\n",
    "\n",
    "\n",
    "window.mainloop()"
   ]
  },
  {
   "cell_type": "code",
   "execution_count": null,
   "id": "d66ab396",
   "metadata": {},
   "outputs": [],
   "source": []
  },
  {
   "cell_type": "code",
   "execution_count": null,
   "id": "219920b5",
   "metadata": {},
   "outputs": [],
   "source": []
  }
 ],
 "metadata": {
  "kernelspec": {
   "display_name": "Python 3.10.8 64-bit",
   "language": "python",
   "name": "python3"
  },
  "language_info": {
   "codemirror_mode": {
    "name": "ipython",
    "version": 3
   },
   "file_extension": ".py",
   "mimetype": "text/x-python",
   "name": "python",
   "nbconvert_exporter": "python",
   "pygments_lexer": "ipython3",
   "version": "3.10.8"
  },
  "vscode": {
   "interpreter": {
    "hash": "a718f384254bfbadce2e62c061f9eb5ba0a3c2eeffe63a72b2b365e597329ca7"
   }
  }
 },
 "nbformat": 4,
 "nbformat_minor": 5
}
